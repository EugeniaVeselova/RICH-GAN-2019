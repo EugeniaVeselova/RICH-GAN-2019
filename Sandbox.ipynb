{
 "cells": [
  {
   "cell_type": "code",
   "execution_count": 1,
   "metadata": {},
   "outputs": [],
   "source": [
    "from utils_legacy import *\n",
    "from model import *"
   ]
  },
  {
   "cell_type": "code",
   "execution_count": 2,
   "metadata": {},
   "outputs": [],
   "source": [
    "from sklearn.model_selection import train_test_split\n",
    "import pandas as pd\n",
    "import seaborn as sns\n",
    "import numpy as np\n",
    "import matplotlib.pyplot as plt\n",
    "import os\n",
    "from IPython.display import clear_output\n",
    "import scipy\n",
    "from tqdm import tqdm_notebook, tqdm\n",
    "%matplotlib inline"
   ]
  },
  {
   "cell_type": "code",
   "execution_count": 3,
   "metadata": {},
   "outputs": [
    {
     "name": "stdout",
     "output_type": "stream",
     "text": [
      "Reading and concatenating datasets:\n",
      "\tdata/data_calibsample/pion2_+_down_2016_.csv\n",
      "\tdata/data_calibsample/pion2_+_up_2016_.csv\n",
      "\tdata/data_calibsample/pion2_-_down_2016_.csv\n",
      "\tdata/data_calibsample/pion2_-_up_2016_.csv\n",
      "\tdata/data_calibsample/pion_+_down_2016_.csv\n",
      "\tdata/data_calibsample/pion_+_up_2016_.csv\n",
      "\tdata/data_calibsample/pion_-_down_2016_.csv\n",
      "\tdata/data_calibsample/pion_-_up_2016_.csv\n",
      "splitting to train/val/test\n",
      "fitting the scaler\n",
      "scaler train sample size: 2000000\n",
      "scaler n_quantiles: 100000, time = 1.652472734451294\n",
      "scaling train set\n",
      "scaling test set\n",
      "converting dtype to <class 'numpy.float32'>\n"
     ]
    }
   ],
   "source": [
    "particle_type = 'pion'\n",
    "\n",
    "data_train, data_val, scaler = get_merged_typed_dataset(particle_type, dtype=np.float32, log=True)"
   ]
  },
  {
   "cell_type": "code",
   "execution_count": 4,
   "metadata": {},
   "outputs": [],
   "source": [
    "from data import *\n",
    "\n",
    "train_dataset = RichDataset(data_train.values)\n",
    "val_dataset = RichDataset(data_val.values)"
   ]
  },
  {
   "cell_type": "code",
   "execution_count": 5,
   "metadata": {},
   "outputs": [],
   "source": [
    "from torch.utils.data import DataLoader\n",
    "\n",
    "noise_size = 64\n",
    "\n",
    "coll = collate_fn_rich(noise_size)\n",
    "\n",
    "train_loader = DataLoader(train_dataset, batch_size=1024, collate_fn=coll)\n",
    "val_loader = DataLoader(val_dataset, batch_size=1, collate_fn=coll)"
   ]
  },
  {
   "cell_type": "code",
   "execution_count": 6,
   "metadata": {},
   "outputs": [],
   "source": [
    "from trainer import *\n",
    "\n",
    "trainer = Trainer(\n",
    "    train_loader\n",
    "    , val_loader\n",
    "    , noise_size=noise_size\n",
    "    , hidden_size=128\n",
    "    , num_layers=5\n",
    "    , cramer_size=256\n",
    "    , epochs=1\n",
    ")"
   ]
  },
  {
   "cell_type": "code",
   "execution_count": 7,
   "metadata": {},
   "outputs": [
    {
     "name": "stderr",
     "output_type": "stream",
     "text": [
      "  0%|          | 3/1954 [00:00<01:30, 21.49it/s]"
     ]
    },
    {
     "name": "stdout",
     "output_type": "stream",
     "text": [
      "(epoch 1)\n"
     ]
    },
    {
     "name": "stderr",
     "output_type": "stream",
     "text": [
      "100%|██████████| 1954/1954 [01:12<00:00, 27.00it/s]\n"
     ]
    }
   ],
   "source": [
    "trainer.train()"
   ]
  },
  {
   "cell_type": "code",
   "execution_count": null,
   "metadata": {},
   "outputs": [],
   "source": []
  },
  {
   "cell_type": "code",
   "execution_count": null,
   "metadata": {},
   "outputs": [],
   "source": []
  },
  {
   "cell_type": "code",
   "execution_count": null,
   "metadata": {},
   "outputs": [],
   "source": []
  }
 ],
 "metadata": {
  "kernelspec": {
   "display_name": "Python 3",
   "language": "python",
   "name": "python3"
  },
  "language_info": {
   "codemirror_mode": {
    "name": "ipython",
    "version": 3
   },
   "file_extension": ".py",
   "mimetype": "text/x-python",
   "name": "python",
   "nbconvert_exporter": "python",
   "pygments_lexer": "ipython3",
   "version": "3.6.8"
  }
 },
 "nbformat": 4,
 "nbformat_minor": 2
}
