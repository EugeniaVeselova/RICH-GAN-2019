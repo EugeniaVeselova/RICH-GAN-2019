{
 "cells": [
  {
   "cell_type": "code",
   "execution_count": 1,
   "metadata": {},
   "outputs": [],
   "source": [
    "import os\n",
    "#os.environ[\"CUDA_VISIBLE_DEVICES\"]=\"1\""
   ]
  },
  {
   "cell_type": "code",
   "execution_count": 2,
   "metadata": {},
   "outputs": [],
   "source": [
    "PARTICLE_TYPE = 'pion'"
   ]
  },
  {
   "cell_type": "code",
   "execution_count": 3,
   "metadata": {},
   "outputs": [],
   "source": [
    "MODEL_NAME = \"FastFastRICH_Cramer_{}_5layers\".format(PARTICLE_TYPE)"
   ]
  },
  {
   "cell_type": "code",
   "execution_count": 4,
   "metadata": {},
   "outputs": [],
   "source": [
    "from sklearn.model_selection import train_test_split\n",
    "import torch\n",
    "from torch import nn\n",
    "import torch.nn.functional as F\n",
    "import pandas as pd\n",
    "import seaborn as sns\n",
    "import numpy as np\n",
    "import matplotlib.pyplot as plt\n",
    "import os\n",
    "from IPython.display import clear_output\n",
    "import scipy\n",
    "from tqdm import tqdm_notebook, tqdm\n",
    "from torch.autograd import Variable, grad\n",
    "%matplotlib inline"
   ]
  },
  {
   "cell_type": "code",
   "execution_count": 5,
   "metadata": {},
   "outputs": [],
   "source": [
    "import rich_utils.torch_utils_rich_mrartemev as utils_rich"
   ]
  },
  {
   "cell_type": "markdown",
   "metadata": {},
   "source": [
    "## Data"
   ]
  },
  {
   "cell_type": "code",
   "execution_count": 6,
   "metadata": {},
   "outputs": [
    {
     "name": "stdout",
     "output_type": "stream",
     "text": [
      "Reading and concatenating datasets:\n",
      "\t../data/data_calibsample/pion_+_down_2016_.csv\n",
      "\t../data/data_calibsample/pion_-_down_2016_.csv\n",
      "\t../data/data_calibsample/pion2_+_up_2016_.csv\n",
      "\t../data/data_calibsample/pion_+_up_2016_.csv\n",
      "\t../data/data_calibsample/pion2_-_up_2016_.csv\n",
      "\t../data/data_calibsample/pion_-_up_2016_.csv\n",
      "\t../data/data_calibsample/pion2_+_down_2016_.csv\n",
      "\t../data/data_calibsample/pion2_-_down_2016_.csv\n",
      "splitting to train/val/test\n",
      "fitting the scaler\n",
      "scaler train sample size: 2000000\n",
      "scaler n_quantiles: 100000, time = 11.74782419204712\n",
      "scaling train set\n",
      "scaling test set\n",
      "converting dtype to <class 'numpy.float32'>\n"
     ]
    }
   ],
   "source": [
    "data_train, data_val, scaler = utils_rich.get_merged_typed_dataset(PARTICLE_TYPE, dtype=np.float32, log=True)"
   ]
  },
  {
   "cell_type": "code",
   "execution_count": 7,
   "metadata": {},
   "outputs": [],
   "source": [
    "BATCH_SIZE = int(1e3)\n",
    "LATENT_DIMENSIONS = 64"
   ]
  },
  {
   "cell_type": "code",
   "execution_count": 8,
   "metadata": {},
   "outputs": [],
   "source": [
    "from torch.utils.data import DataLoader\n",
    "from torch.utils.data import Dataset\n",
    "\n",
    "class RichDs(Dataset):\n",
    "    def __init__(self, dataset, batch_size):\n",
    "        self.dataset = torch.Tensor(dataset)\n",
    "        self.batch_size = batch_size\n",
    "\n",
    "    def __len__(self):\n",
    "        return len(self.dataset)\n",
    "\n",
    "    def __getitem__(self, idx=None):\n",
    "        return self.dataset[idx]"
   ]
  },
  {
   "cell_type": "code",
   "execution_count": 9,
   "metadata": {},
   "outputs": [],
   "source": [
    "train_full_ = RichDs(data_train.values[:,:-1], BATCH_SIZE)\n",
    "w_full_ = RichDs(data_train.values[:,-1], BATCH_SIZE)\n",
    "train_x_1_ = RichDs((data_train.values[:, utils_rich.y_count:])[:,:-1], BATCH_SIZE)\n",
    "w_x_1_ = RichDs((data_train.values[:, utils_rich.y_count:])[:,-1], BATCH_SIZE)\n",
    "train_x_2_ = RichDs((data_train.values[:, utils_rich.y_count:])[:,:-1], BATCH_SIZE)\n",
    "w_x_2_ = RichDs((data_train.values[:, utils_rich.y_count:])[:,-1], BATCH_SIZE)\n",
    "\n",
    "all_data = torch.utils.data.TensorDataset(train_full_.dataset, w_full_.dataset, train_x_1_.dataset, \n",
    "                                          w_x_1_.dataset, train_x_2_.dataset, w_x_2_.dataset)\n",
    "all_dataloader = DataLoader(all_data, batch_size=BATCH_SIZE, shuffle=True)"
   ]
  },
  {
   "cell_type": "markdown",
   "metadata": {},
   "source": [
    "## Model"
   ]
  },
  {
   "cell_type": "code",
   "execution_count": 10,
   "metadata": {},
   "outputs": [],
   "source": [
    "CRAMER_DIM = 256\n",
    "NUM_LAYERS = 5\n",
    "\n",
    "class Generator(nn.Module):\n",
    "    def __init__(self):\n",
    "        super(Generator, self).__init__()\n",
    "        self.main = nn.Sequential(\n",
    "            nn.Linear((LATENT_DIMENSIONS + data_train.shape[1] - 1 - utils_rich.y_count), 128),\n",
    "            nn.ReLU(),\n",
    "            nn.Linear(128, 128),\n",
    "            nn.ReLU(),\n",
    "            nn.Linear(128, 128),\n",
    "            nn.ReLU(),\n",
    "            nn.Linear(128, 128),\n",
    "            nn.ReLU(),\n",
    "            nn.Linear(128, 128),\n",
    "            nn.ReLU(),\n",
    "            nn.Linear(128, utils_rich.y_count)\n",
    "        )\n",
    "\n",
    "    def forward(self, input):\n",
    "        noise = torch.empty(input.shape[0], LATENT_DIMENSIONS, device=input.device).normal_(mean=0,std=3.0)\n",
    "        return self.main(torch.cat((noise, input), dim=1))\n",
    "\n",
    "class Critic(nn.Module):\n",
    "    def __init__(self):\n",
    "        super(Critic, self).__init__()\n",
    "        self.main = nn.Sequential(\n",
    "            nn.Linear((data_train.shape[1] - 1), 128),\n",
    "            nn.ReLU(),\n",
    "            nn.Linear(128, 128),\n",
    "            nn.ReLU(),\n",
    "            nn.Linear(128, 128),\n",
    "            nn.ReLU(),\n",
    "            nn.Linear(128, 128),\n",
    "            nn.ReLU(),\n",
    "            nn.Linear(128, 128),\n",
    "            nn.ReLU(),\n",
    "            nn.Linear(128, CRAMER_DIM)\n",
    "        )\n",
    "\n",
    "    def forward(self, input):\n",
    "        output = self.main(input)\n",
    "        return output\n",
    "\n",
    "def init_weights(m):\n",
    "    if type(m) == nn.Linear:\n",
    "        torch.nn.init.xavier_uniform(m.weight)\n",
    "        m.bias.data.fill_(0.01)"
   ]
  },
  {
   "cell_type": "code",
   "execution_count": 11,
   "metadata": {},
   "outputs": [
    {
     "name": "stdout",
     "output_type": "stream",
     "text": [
      "Ok\n"
     ]
    },
    {
     "name": "stderr",
     "output_type": "stream",
     "text": [
      "/usr/local/lib/python3.6/dist-packages/ipykernel_launcher.py:48: UserWarning: nn.init.xavier_uniform is now deprecated in favor of nn.init.xavier_uniform_.\n"
     ]
    }
   ],
   "source": [
    "device = torch.device(\"cuda:3\")\n",
    "netG = Generator().to(device)\n",
    "netC = Critic().to(device)\n",
    "netC.apply(init_weights)\n",
    "netG.apply(init_weights)\n",
    "print('Ok')"
   ]
  },
  {
   "cell_type": "code",
   "execution_count": 12,
   "metadata": {},
   "outputs": [],
   "source": [
    "optC = torch.optim.RMSprop(netC.parameters(), lr=1e-3)\n",
    "lr_C = torch.optim.lr_scheduler.ExponentialLR(optimizer=optC, gamma=0.98)\n",
    "optG = torch.optim.RMSprop(netG.parameters(), lr=1e-3)\n",
    "lr_G = torch.optim.lr_scheduler.ExponentialLR(optimizer=optG, gamma=0.98)"
   ]
  },
  {
   "cell_type": "markdown",
   "metadata": {},
   "source": [
    "## Train"
   ]
  },
  {
   "cell_type": "code",
   "execution_count": 13,
   "metadata": {},
   "outputs": [],
   "source": [
    "LOGDIR = \"./log\"\n",
    "CRITIC_ITERATIONS_CONST = 15\n",
    "CRITIC_ITERATIONS_VAR = 0\n",
    "TOTAL_ITERATIONS = int(1e5)\n",
    "VALIDATION_INTERVAL = 1000\n",
    "critic_policy = lambda i: (\n",
    "    CRITIC_ITERATIONS_CONST + (CRITIC_ITERATIONS_VAR * (TOTAL_ITERATIONS - i)) // TOTAL_ITERATIONS\n",
    ")"
   ]
  },
  {
   "cell_type": "code",
   "execution_count": 14,
   "metadata": {},
   "outputs": [],
   "source": [
    "def cramer_critic(x, y):\n",
    "    discriminated_x = netC(x)\n",
    "    return torch.norm(discriminated_x - netC(y), dim=1) - torch.norm(discriminated_x, dim=1)"
   ]
  },
  {
   "cell_type": "code",
   "execution_count": 15,
   "metadata": {},
   "outputs": [],
   "source": [
    "lambda_pt = lambda i: 20 / np.pi * 2 * torch.atan(torch.tensor(i, dtype=torch.float32, device=device)/1e4)    "
   ]
  },
  {
   "cell_type": "code",
   "execution_count": 16,
   "metadata": {},
   "outputs": [],
   "source": [
    "with torch.no_grad():\n",
    "    N_VAL = int(3e5)\n",
    "    validation_np = data_val.sample(N_VAL).values\n",
    "    val = torch.tensor(validation_np, device=device)"
   ]
  },
  {
   "cell_type": "code",
   "execution_count": null,
   "metadata": {},
   "outputs": [],
   "source": [
    "loss_c = []\n",
    "loss_g = []"
   ]
  },
  {
   "cell_type": "code",
   "execution_count": 17,
   "metadata": {},
   "outputs": [
    {
     "name": "stderr",
     "output_type": "stream",
     "text": [
      "\r",
      "  0%|          | 0/100000 [00:00<?, ?it/s]"
     ]
    },
    {
     "ename": "KeyboardInterrupt",
     "evalue": "",
     "output_type": "error",
     "traceback": [
      "\u001b[0;31m---------------------------------------------------------------------------\u001b[0m",
      "\u001b[0;31mKeyboardInterrupt\u001b[0m                         Traceback (most recent call last)",
      "\u001b[0;32m<ipython-input-17-85b4aef98c82>\u001b[0m in \u001b[0;36m<module>\u001b[0;34m\u001b[0m\n\u001b[1;32m     17\u001b[0m             \u001b[0moutput\u001b[0m \u001b[0;34m=\u001b[0m \u001b[0mnetC\u001b[0m\u001b[0;34m(\u001b[0m\u001b[0mtrain_full\u001b[0m\u001b[0;34m)\u001b[0m\u001b[0;34m\u001b[0m\u001b[0;34m\u001b[0m\u001b[0m\n\u001b[1;32m     18\u001b[0m             generator_loss = torch.mean(cramer_critic(train_full, gen_full_2) * w_full * w_x_2 -\n\u001b[0;32m---> 19\u001b[0;31m                         cramer_critic(gen_full_1, gen_full_2) * w_x_1  * w_x_2)\n\u001b[0m\u001b[1;32m     20\u001b[0m \u001b[0;34m\u001b[0m\u001b[0m\n\u001b[1;32m     21\u001b[0m             \u001b[0malpha\u001b[0m \u001b[0;34m=\u001b[0m \u001b[0mtorch\u001b[0m\u001b[0;34m.\u001b[0m\u001b[0mempty\u001b[0m\u001b[0;34m(\u001b[0m\u001b[0mtrain_full\u001b[0m\u001b[0;34m.\u001b[0m\u001b[0mshape\u001b[0m\u001b[0;34m[\u001b[0m\u001b[0;36m0\u001b[0m\u001b[0;34m]\u001b[0m\u001b[0;34m,\u001b[0m \u001b[0;36m1\u001b[0m\u001b[0;34m,\u001b[0m \u001b[0mdevice\u001b[0m\u001b[0;34m=\u001b[0m\u001b[0mdevice\u001b[0m\u001b[0;34m)\u001b[0m\u001b[0;34m.\u001b[0m\u001b[0mnormal_\u001b[0m\u001b[0;34m(\u001b[0m\u001b[0;36m0.0\u001b[0m\u001b[0;34m,\u001b[0m\u001b[0;36m1.0\u001b[0m\u001b[0;34m)\u001b[0m\u001b[0;34m\u001b[0m\u001b[0;34m\u001b[0m\u001b[0m\n",
      "\u001b[0;32m<ipython-input-14-d1b20f13fa9c>\u001b[0m in \u001b[0;36mcramer_critic\u001b[0;34m(x, y)\u001b[0m\n\u001b[1;32m      1\u001b[0m \u001b[0;32mdef\u001b[0m \u001b[0mcramer_critic\u001b[0m\u001b[0;34m(\u001b[0m\u001b[0mx\u001b[0m\u001b[0;34m,\u001b[0m \u001b[0my\u001b[0m\u001b[0;34m)\u001b[0m\u001b[0;34m:\u001b[0m\u001b[0;34m\u001b[0m\u001b[0;34m\u001b[0m\u001b[0m\n\u001b[1;32m      2\u001b[0m     \u001b[0mdiscriminated_x\u001b[0m \u001b[0;34m=\u001b[0m \u001b[0mnetC\u001b[0m\u001b[0;34m(\u001b[0m\u001b[0mx\u001b[0m\u001b[0;34m)\u001b[0m\u001b[0;34m\u001b[0m\u001b[0;34m\u001b[0m\u001b[0m\n\u001b[0;32m----> 3\u001b[0;31m     \u001b[0;32mreturn\u001b[0m \u001b[0mtorch\u001b[0m\u001b[0;34m.\u001b[0m\u001b[0mnorm\u001b[0m\u001b[0;34m(\u001b[0m\u001b[0mdiscriminated_x\u001b[0m \u001b[0;34m-\u001b[0m \u001b[0mnetC\u001b[0m\u001b[0;34m(\u001b[0m\u001b[0my\u001b[0m\u001b[0;34m)\u001b[0m\u001b[0;34m,\u001b[0m \u001b[0mdim\u001b[0m\u001b[0;34m=\u001b[0m\u001b[0;36m1\u001b[0m\u001b[0;34m)\u001b[0m \u001b[0;34m-\u001b[0m \u001b[0mtorch\u001b[0m\u001b[0;34m.\u001b[0m\u001b[0mnorm\u001b[0m\u001b[0;34m(\u001b[0m\u001b[0mdiscriminated_x\u001b[0m\u001b[0;34m,\u001b[0m \u001b[0mdim\u001b[0m\u001b[0;34m=\u001b[0m\u001b[0;36m1\u001b[0m\u001b[0;34m)\u001b[0m\u001b[0;34m\u001b[0m\u001b[0;34m\u001b[0m\u001b[0m\n\u001b[0m",
      "\u001b[0;32m/usr/local/lib/python3.6/dist-packages/torch/nn/modules/module.py\u001b[0m in \u001b[0;36m__call__\u001b[0;34m(self, *input, **kwargs)\u001b[0m\n\u001b[1;32m    530\u001b[0m \u001b[0;34m\u001b[0m\u001b[0m\n\u001b[1;32m    531\u001b[0m     \u001b[0;32mdef\u001b[0m \u001b[0m__call__\u001b[0m\u001b[0;34m(\u001b[0m\u001b[0mself\u001b[0m\u001b[0;34m,\u001b[0m \u001b[0;34m*\u001b[0m\u001b[0minput\u001b[0m\u001b[0;34m,\u001b[0m \u001b[0;34m**\u001b[0m\u001b[0mkwargs\u001b[0m\u001b[0;34m)\u001b[0m\u001b[0;34m:\u001b[0m\u001b[0;34m\u001b[0m\u001b[0;34m\u001b[0m\u001b[0m\n\u001b[0;32m--> 532\u001b[0;31m         \u001b[0;32mfor\u001b[0m \u001b[0mhook\u001b[0m \u001b[0;32min\u001b[0m \u001b[0mself\u001b[0m\u001b[0;34m.\u001b[0m\u001b[0m_forward_pre_hooks\u001b[0m\u001b[0;34m.\u001b[0m\u001b[0mvalues\u001b[0m\u001b[0;34m(\u001b[0m\u001b[0;34m)\u001b[0m\u001b[0;34m:\u001b[0m\u001b[0;34m\u001b[0m\u001b[0;34m\u001b[0m\u001b[0m\n\u001b[0m\u001b[1;32m    533\u001b[0m             \u001b[0mresult\u001b[0m \u001b[0;34m=\u001b[0m \u001b[0mhook\u001b[0m\u001b[0;34m(\u001b[0m\u001b[0mself\u001b[0m\u001b[0;34m,\u001b[0m \u001b[0minput\u001b[0m\u001b[0;34m)\u001b[0m\u001b[0;34m\u001b[0m\u001b[0;34m\u001b[0m\u001b[0m\n\u001b[1;32m    534\u001b[0m             \u001b[0;32mif\u001b[0m \u001b[0mresult\u001b[0m \u001b[0;32mis\u001b[0m \u001b[0;32mnot\u001b[0m \u001b[0;32mNone\u001b[0m\u001b[0;34m:\u001b[0m\u001b[0;34m\u001b[0m\u001b[0;34m\u001b[0m\u001b[0m\n",
      "\u001b[0;31mKeyboardInterrupt\u001b[0m: "
     ]
    }
   ],
   "source": [
    "for epoch in tqdm(range(TOTAL_ITERATIONS), position=0, leave=True):\n",
    "    for i, data in enumerate(all_dataloader):\n",
    "        train_full, w_full, train_x_1, w_x_1, train_x_2, w_x_2 = data\n",
    "        train_full = train_full.to(device)\n",
    "        w_full = w_full.to(device)\n",
    "        train_x_1 = train_x_1.to(device)\n",
    "        w_x_1 = w_x_1.to(device)\n",
    "        train_x_2 = train_x_2.to(device)\n",
    "        w_x_2 = w_x_2.to(device)\n",
    "        \n",
    "        gen_y_1 = netG(train_x_1)\n",
    "        gen_y_2 = netG(train_x_2)\n",
    "        gen_full_2 = torch.cat((gen_y_2, train_x_2), dim=1)\n",
    "        gen_full_1 = torch.cat((gen_y_1, train_x_1), dim=1)\n",
    "\n",
    "        for j in range(critic_policy(epoch)):\n",
    "            output = netC(train_full)\n",
    "            generator_loss = torch.mean(cramer_critic(train_full, gen_full_2) * w_full * w_x_2 -\n",
    "                        cramer_critic(gen_full_1, gen_full_2) * w_x_1  * w_x_2)\n",
    "\n",
    "            alpha = torch.empty(train_full.shape[0], 1, device=device).normal_(0.0,1.0)\n",
    "            interpolates = alpha * train_full + (1.0 - alpha) * gen_full_1\n",
    "            disc_interpolates = cramer_critic(interpolates, gen_full_2)\n",
    "            gradients = grad(outputs=disc_interpolates, inputs=interpolates, \n",
    "                             grad_outputs=torch.ones_like(disc_interpolates))[0]\n",
    "            slopes = torch.norm(torch.reshape(gradients, (list(gradients[0].shape)[0], -1)), dim=1)\n",
    "            gradient_penalty = torch.mean(torch.pow(torch.max(torch.abs(slopes) - 1, \n",
    "                                                              torch.zeros(8, device=device)), 2))\n",
    "            critic_loss = lambda_pt(epoch) * gradient_penalty - generator_loss\n",
    "            critic_loss.backward(retain_graph=True)\n",
    "            optC.step()\n",
    "            optC.zero_grad()\n",
    "            lr_C.step()\n",
    "            del slopes, gradient_penalty, gradients, alpha, generator_loss, output, interpolates,\n",
    "            disc_interpolates, critic_loss\n",
    "\n",
    "        generator_loss = torch.mean(cramer_critic(train_full, gen_full_2) * w_full * w_x_2 -\n",
    "                                cramer_critic(gen_full_1, gen_full_2) * w_x_1  * w_x_2)\n",
    "        generator_loss.backward()\n",
    "        optG.step()\n",
    "        optG.zero_grad()\n",
    "        lr_G.step()\n",
    "        del generator_loss\n",
    "    torch.save({'netC_state_dict': netC.state_dict(),\n",
    "                'netG_state_dict': netG.state_dict(),\n",
    "                'optC_state_dict': optC.state_dict(),\n",
    "                'optG_state_dict': optG.state_dict(),\n",
    "                'lr_C_state_dict': lr_C.state_dict(),\n",
    "                'lr_G_state_dict': lr_G.state_dict()\n",
    "               }, LOGDIR)\n",
    "    clear_output(False)\n",
    "    with torch.no_grad():\n",
    "        noise_t = torch.empty(val[:, utils_rich.y_count:-1].shape[0], \n",
    "                                      LATENT_DIMENSIONS, device=device).normal_(mean=0,std=3.0)\n",
    "\n",
    "        y_t = netG(torch.cat((noise_t, val[:, utils_rich.y_count:-1]), dim=1))\n",
    "        fig, axes = plt.subplots(2, 2, figsize=(15, 15))\n",
    "        for INDEX, ax in zip((0, 1, 3, 4), axes.flatten()):\n",
    "            _, bins, _ = ax.hist(val[:, INDEX].cpu(), bins=100, label=\"data\", normed=True,\n",
    "                                 weights=val[:,-1].cpu())\n",
    "            ax.hist(y_t[:, INDEX].cpu(), bins=bins, label=\"generated\", alpha=0.5, normed=True,\n",
    "                    weights=val[:,-1].cpu())\n",
    "            ax.legend()\n",
    "            ax.set_title(utils_rich.dll_columns[INDEX])\n",
    "        plt.show()"
   ]
  },
  {
   "cell_type": "code",
   "execution_count": 18,
   "metadata": {},
   "outputs": [
    {
     "name": "stderr",
     "output_type": "stream",
     "text": [
      "/usr/local/lib/python3.6/dist-packages/ipykernel_launcher.py:7: MatplotlibDeprecationWarning: \n",
      "The 'normed' kwarg was deprecated in Matplotlib 2.1 and will be removed in 3.1. Use 'density' instead.\n",
      "  import sys\n",
      "/usr/local/lib/python3.6/dist-packages/ipykernel_launcher.py:9: MatplotlibDeprecationWarning: \n",
      "The 'normed' kwarg was deprecated in Matplotlib 2.1 and will be removed in 3.1. Use 'density' instead.\n",
      "  if __name__ == '__main__':\n",
      "/usr/local/lib/python3.6/dist-packages/numpy/lib/histograms.py:898: RuntimeWarning: invalid value encountered in true_divide\n",
      "  return n/db/n.sum(), bin_edges\n"
     ]
    },
    {
     "data": {
      "image/png": "[encoded data removed]",
      "text/plain": [
       "<Figure size 1080x1080 with 4 Axes>"
      ]
     },
     "metadata": {
      "needs_background": "light"
     },
     "output_type": "display_data"
    }
   ],
   "source": [
    "with torch.no_grad():\n",
    "\n",
    "    y_t = netG(val[:, utils_rich.y_count:-1])\n",
    "    fig, axes = plt.subplots(2, 2, figsize=(15, 15))\n",
    "    for INDEX, ax in zip((0, 1, 3, 4), axes.flatten()):\n",
    "        _, bins, _ = ax.hist(val[:, INDEX].cpu(), bins=100, label=\"data\", normed=True,\n",
    "                             weights=val[:,-1].cpu())\n",
    "        ax.hist(y_t[:, INDEX].cpu(), bins=bins, label=\"generated\", alpha=0.5, normed=True,\n",
    "                weights=val[:,-1].cpu())\n",
    "        ax.legend()\n",
    "        ax.set_title(utils_rich.dll_columns[INDEX])\n",
    "    plt.show()"
   ]
  }
 ],
 "metadata": {
  "kernelspec": {
   "display_name": "Python 3",
   "language": "python",
   "name": "python3"
  },
  "language_info": {
   "codemirror_mode": {
    "name": "ipython",
    "version": 3
   },
   "file_extension": ".py",
   "mimetype": "text/x-python",
   "name": "python",
   "nbconvert_exporter": "python",
   "pygments_lexer": "ipython3",
   "version": "3.6.8"
  }
 },
 "nbformat": 4,
 "nbformat_minor": 2
}
